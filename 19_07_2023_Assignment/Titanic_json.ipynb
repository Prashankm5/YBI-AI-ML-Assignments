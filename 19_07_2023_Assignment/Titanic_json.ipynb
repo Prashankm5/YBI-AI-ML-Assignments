{
 "cells": [
  {
   "cell_type": "code",
   "execution_count": 1,
   "id": "1ecb7281",
   "metadata": {},
   "outputs": [],
   "source": [
    "import pandas as pd "
   ]
  },
  {
   "cell_type": "code",
   "execution_count": 2,
   "id": "9f603d39",
   "metadata": {},
   "outputs": [],
   "source": [
    "Titanic = pd.read_json('https://github.com/YBIFoundation/Dataset/raw/main/Titanic.json')"
   ]
  },
  {
   "cell_type": "code",
   "execution_count": 3,
   "id": "f4cfd9fc",
   "metadata": {},
   "outputs": [
    {
     "data": {
      "text/plain": [
       "(1309, 14)"
      ]
     },
     "execution_count": 3,
     "metadata": {},
     "output_type": "execute_result"
    }
   ],
   "source": [
    "Titanic.shape"
   ]
  },
  {
   "cell_type": "code",
   "execution_count": 4,
   "id": "ce357daa",
   "metadata": {},
   "outputs": [
    {
     "data": {
      "text/plain": [
       "Index(['pclass', 'survived', 'name', 'sex', 'age', 'sibsp', 'parch', 'ticket',\n",
       "       'fare', 'cabin', 'embarked', 'boat', 'body', 'home.dest'],\n",
       "      dtype='object')"
      ]
     },
     "execution_count": 4,
     "metadata": {},
     "output_type": "execute_result"
    }
   ],
   "source": [
    "Titanic.columns"
   ]
  },
  {
   "cell_type": "code",
   "execution_count": 5,
   "id": "5299c8cf",
   "metadata": {},
   "outputs": [
    {
     "data": {
      "text/plain": [
       "<bound method DataFrame.info of       pclass  survived                                             name  \\\n",
       "0          1         1                    Allen, Miss. Elisabeth Walton   \n",
       "1          1         1                   Allison, Master. Hudson Trevor   \n",
       "2          1         0                     Allison, Miss. Helen Loraine   \n",
       "3          1         0             Allison, Mr. Hudson Joshua Creighton   \n",
       "4          1         0  Allison, Mrs. Hudson J C (Bessie Waldo Daniels)   \n",
       "...      ...       ...                                              ...   \n",
       "1304       3         0                             Zabour, Miss. Hileni   \n",
       "1305       3         0                            Zabour, Miss. Thamine   \n",
       "1306       3         0                        Zakarian, Mr. Mapriededer   \n",
       "1307       3         0                              Zakarian, Mr. Ortin   \n",
       "1308       3         0                               Zimmerman, Mr. Leo   \n",
       "\n",
       "         sex   age  sibsp  parch  ticket      fare    cabin embarked boat  \\\n",
       "0     female    29      0      0   24160  211.3375       B5        S    2   \n",
       "1       male  0.92      1      2  113781    151.55  C22 C26        S   11   \n",
       "2     female     2      1      2  113781    151.55  C22 C26        S        \n",
       "3       male    30      1      2  113781    151.55  C22 C26        S        \n",
       "4     female    25      1      2  113781    151.55  C22 C26        S        \n",
       "...      ...   ...    ...    ...     ...       ...      ...      ...  ...   \n",
       "1304  female  14.5      1      0    2665   14.4542                 C        \n",
       "1305  female            1      0    2665   14.4542                 C        \n",
       "1306    male  26.5      0      0    2656     7.225                 C        \n",
       "1307    male    27      0      0    2670     7.225                 C        \n",
       "1308    male    29      0      0  315082     7.875                 S        \n",
       "\n",
       "     body                        home.dest  \n",
       "0                             St Louis, MO  \n",
       "1          Montreal, PQ / Chesterville, ON  \n",
       "2          Montreal, PQ / Chesterville, ON  \n",
       "3     135  Montreal, PQ / Chesterville, ON  \n",
       "4          Montreal, PQ / Chesterville, ON  \n",
       "...   ...                              ...  \n",
       "1304  328                                   \n",
       "1305                                        \n",
       "1306  304                                   \n",
       "1307                                        \n",
       "1308                                        \n",
       "\n",
       "[1309 rows x 14 columns]>"
      ]
     },
     "execution_count": 5,
     "metadata": {},
     "output_type": "execute_result"
    }
   ],
   "source": [
    "Titanic.info"
   ]
  },
  {
   "cell_type": "code",
   "execution_count": null,
   "id": "f4ba3f8d",
   "metadata": {},
   "outputs": [],
   "source": []
  }
 ],
 "metadata": {
  "kernelspec": {
   "display_name": "Python 3 (ipykernel)",
   "language": "python",
   "name": "python3"
  },
  "language_info": {
   "codemirror_mode": {
    "name": "ipython",
    "version": 3
   },
   "file_extension": ".py",
   "mimetype": "text/x-python",
   "name": "python",
   "nbconvert_exporter": "python",
   "pygments_lexer": "ipython3",
   "version": "3.10.7"
  }
 },
 "nbformat": 4,
 "nbformat_minor": 5
}
