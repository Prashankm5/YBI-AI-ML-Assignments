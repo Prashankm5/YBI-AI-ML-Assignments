{
 "cells": [
  {
   "cell_type": "code",
   "execution_count": 1,
   "id": "29bf9fcf",
   "metadata": {},
   "outputs": [],
   "source": [
    "import pandas as pd "
   ]
  },
  {
   "cell_type": "code",
   "execution_count": 2,
   "id": "f3bf62f1",
   "metadata": {},
   "outputs": [],
   "source": [
    "Titanic = pd.read_html('https://github.com/YBIFoundation/Dataset/raw/main/Titanic.html')"
   ]
  },
  {
   "cell_type": "code",
   "execution_count": 3,
   "id": "87ae8e37",
   "metadata": {},
   "outputs": [
    {
     "data": {
      "text/plain": [
       "[          0         1          2                            3       4      5   \\\n",
       " 0     pclass  survived       name                          sex     age  sibsp   \n",
       " 1          1         1      Allen       Miss. Elisabeth Walton  female     29   \n",
       " 2          1         1    Allison        Master. Hudson Trevor    male   0.92   \n",
       " 3          1         0    Allison          Miss. Helen Loraine  female      2   \n",
       " 4          1         0    Allison  Mr. Hudson Joshua Creighton    male     30   \n",
       " ...      ...       ...        ...                          ...     ...    ...   \n",
       " 1305       3         0     Zabour                 Miss. Hileni  female   14.5   \n",
       " 1306       3         0     Zabour                Miss. Thamine  female    NaN   \n",
       " 1307       3         0   Zakarian              Mr. Mapriededer    male   26.5   \n",
       " 1308       3         0   Zakarian                    Mr. Ortin    male     27   \n",
       " 1309       3         0  Zimmerman                      Mr. Leo    male     29   \n",
       " \n",
       "          6       7       8         9         10    11    12         13  \n",
       " 0     parch  ticket    fare     cabin  embarked  boat  body  home.dest  \n",
       " 1         0       0   24160  211.3375        B5     S     2        NaN  \n",
       " 2         1       2  113781  151.5500   C22 C26     S    11        NaN  \n",
       " 3         1       2  113781  151.5500   C22 C26     S   NaN        NaN  \n",
       " 4         1       2  113781  151.5500   C22 C26     S   NaN        135  \n",
       " ...     ...     ...     ...       ...       ...   ...   ...        ...  \n",
       " 1305      1       0    2665   14.4542       NaN     C   NaN        328  \n",
       " 1306      1       0    2665   14.4542       NaN     C   NaN        NaN  \n",
       " 1307      0       0    2656    7.2250       NaN     C   NaN        304  \n",
       " 1308      0       0    2670    7.2250       NaN     C   NaN        NaN  \n",
       " 1309      0       0  315082    7.8750       NaN     S   NaN        NaN  \n",
       " \n",
       " [1310 rows x 14 columns]]"
      ]
     },
     "execution_count": 3,
     "metadata": {},
     "output_type": "execute_result"
    }
   ],
   "source": [
    "Titanic"
   ]
  },
  {
   "cell_type": "markdown",
   "id": "8f4207af",
   "metadata": {},
   "source": [
    "## **Shape**"
   ]
  },
  {
   "cell_type": "code",
   "execution_count": 4,
   "id": "7f6ed081",
   "metadata": {},
   "outputs": [
    {
     "ename": "AttributeError",
     "evalue": "'list' object has no attribute 'shape'",
     "output_type": "error",
     "traceback": [
      "\u001b[1;31m---------------------------------------------------------------------------\u001b[0m",
      "\u001b[1;31mAttributeError\u001b[0m                            Traceback (most recent call last)",
      "Cell \u001b[1;32mIn [4], line 1\u001b[0m\n\u001b[1;32m----> 1\u001b[0m Titanic\u001b[38;5;241m.\u001b[39mshape\n",
      "\u001b[1;31mAttributeError\u001b[0m: 'list' object has no attribute 'shape'"
     ]
    }
   ],
   "source": [
    "Titanic.shape"
   ]
  },
  {
   "cell_type": "markdown",
   "id": "5ed1d162",
   "metadata": {},
   "source": [
    "## **Columns**"
   ]
  },
  {
   "cell_type": "code",
   "execution_count": null,
   "id": "5a0ca2cd",
   "metadata": {},
   "outputs": [],
   "source": [
    "Titanic.columns"
   ]
  },
  {
   "cell_type": "markdown",
   "id": "e97cb102",
   "metadata": {},
   "source": [
    "## **Info**"
   ]
  },
  {
   "cell_type": "code",
   "execution_count": null,
   "id": "d34a1364",
   "metadata": {},
   "outputs": [],
   "source": [
    "Titanic.info"
   ]
  },
  {
   "cell_type": "code",
   "execution_count": null,
   "id": "6c8fa775",
   "metadata": {},
   "outputs": [],
   "source": []
  }
 ],
 "metadata": {
  "kernelspec": {
   "display_name": "Python 3 (ipykernel)",
   "language": "python",
   "name": "python3"
  },
  "language_info": {
   "codemirror_mode": {
    "name": "ipython",
    "version": 3
   },
   "file_extension": ".py",
   "mimetype": "text/x-python",
   "name": "python",
   "nbconvert_exporter": "python",
   "pygments_lexer": "ipython3",
   "version": "3.10.7"
  }
 },
 "nbformat": 4,
 "nbformat_minor": 5
}
