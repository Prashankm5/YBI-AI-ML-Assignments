{
 "cells": [
  {
   "cell_type": "code",
   "execution_count": 1,
   "id": "cb6320ef",
   "metadata": {},
   "outputs": [],
   "source": [
    "import pandas as pd"
   ]
  },
  {
   "cell_type": "code",
   "execution_count": 2,
   "id": "578624fa",
   "metadata": {},
   "outputs": [],
   "source": [
    "Titanic = pd.read_csv('https://github.com/YBIFoundation/Dataset/raw/main/Titanic.csv')"
   ]
  },
  {
   "cell_type": "code",
   "execution_count": 3,
   "id": "2f9fcfb7",
   "metadata": {},
   "outputs": [],
   "source": [
    "Titanic"
   ]
  },
  {
   "cell_type": "markdown",
   "id": "8563bfc9",
   "metadata": {},
   "source": [
    "## **Shape of The Data**"
   ]
  },
  {
   "cell_type": "code",
   "execution_count": 4,
   "id": "16063315",
   "metadata": {},
   "outputs": [],
   "source": [
    "Titanic.shape"
   ]
  },
  {
   "cell_type": "markdown",
   "id": "1405c95a",
   "metadata": {},
   "source": [
    "## **Columns in the datafame**"
   ]
  },
  {
   "cell_type": "code",
   "execution_count": 5,
   "id": "8953d857",
   "metadata": {},
   "outputs": [],
   "source": [
    "Titanic.columns"
   ]
  },
  {
   "cell_type": "markdown",
   "id": "5d68f7a3",
   "metadata": {},
   "source": [
    "# **Info of the Datafame**"
   ]
  },
  {
   "cell_type": "code",
   "execution_count": 6,
   "id": "72c1686f",
   "metadata": {},
   "outputs": [],
   "source": [
    "Titanic.info()"
   ]
  },
  {
   "cell_type": "code",
   "execution_count": null,
   "id": "375c61b3",
   "metadata": {},
   "outputs": [],
   "source": []
  }
 ],
 "metadata": {
  "kernelspec": {
   "display_name": "Python 3 (ipykernel)",
   "language": "python",
   "name": "python3"
  },
  "language_info": {
   "codemirror_mode": {
    "name": "ipython",
    "version": 3
   },
   "file_extension": ".py",
   "mimetype": "text/x-python",
   "name": "python",
   "nbconvert_exporter": "python",
   "pygments_lexer": "ipython3",
   "version": "3.10.7"
  }
 },
 "nbformat": 4,
 "nbformat_minor": 5
}
